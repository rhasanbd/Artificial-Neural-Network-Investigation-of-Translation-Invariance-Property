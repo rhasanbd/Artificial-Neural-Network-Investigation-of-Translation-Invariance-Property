{
 "cells": [
  {
   "cell_type": "markdown",
   "metadata": {
    "collapsed": true
   },
   "source": [
    "# Translation Invariant Artificial Neural Network\n",
    "\n",
    "An important performance issue of an Artificial Neural Network (ANN) is to consider whether its predictions remain unchanged, or invariant, under one or more transformations of the input data. \n",
    "\n",
    "In this notebook we will investigate the translation invariance property of a Multi-Layer Perceptron (MLP). We will see that generally a **MLP is not invariant to the translation of the images** that are used to train it.\n",
    "\n",
    "Then, we will attempt to make it translation invariant by training it with an augmented dataset that is created by shifting the original images along x-y axes.\n",
    "\n",
    "For testing the MLP model we will use an **augmented test dataset** that contains images that are altered by translation of the original images. \n",
    "\n",
    "From the training dataset, a test subset will be separated. This is a non-augmented test subset. Unlike the augmented test set, this test subset does not contain any augmented images.\n",
    "\n",
    "\n",
    "We will perform the following tasks.\n",
    "- Task 1: Train a MLP with training data (non-augmented) and evaluate its performance on both the non-augmented and augmented test subsets. \n",
    "\n",
    "- Task 2: Augment the training data by adding images after applying some translation along x-y axes.\n",
    "\n",
    "- Task 3: Train a MLP model by using the augmented training data and evaluate its performance on both the non-augmented and augmented test subsets. \n"
   ]
  },
  {
   "cell_type": "code",
   "execution_count": 1,
   "metadata": {},
   "outputs": [],
   "source": [
    "import warnings\n",
    "import time\n",
    "import numpy as np\n",
    "import pandas as pd\n",
    "import copy \n",
    "import matplotlib.pyplot as plt\n",
    "%matplotlib inline\n",
    "from scipy.io import loadmat\n",
    "\n",
    "from scipy.ndimage.interpolation import shift, rotate\n",
    "from scipy.ndimage import gaussian_filter\n",
    "\n",
    "\n",
    "from sklearn.datasets import fetch_openml\n",
    "from sklearn.neural_network import MLPClassifier\n",
    "\n",
    "\n",
    "from sklearn.metrics import confusion_matrix, classification_report\n",
    "from sklearn.model_selection import train_test_split"
   ]
  },
  {
   "cell_type": "markdown",
   "metadata": {},
   "source": [
    "## Non-Augmented Data Matrix (X) and the Label Vector (y)\n",
    "\n",
    "\n",
    "We will use the MNIST dataset, which is a set of 70,000 small images of digits handwritten by high school students and employees of the US Census Bureau. Each image is labeled with the digit it represents.\n",
    "\n",
    "There are 70,000 images. Each image is 28x28 pixels, and each feature simply represents one pixel’s intensity, from 0 (white) to 255 (black).\n",
    "\n",
    "Thus, each image has 784 features. \n",
    "\n",
    "First load the data from a local folder (obtain it from Canvas) or load it directly from cloud using Scikit-Learn."
   ]
  },
  {
   "cell_type": "code",
   "execution_count": 2,
   "metadata": {},
   "outputs": [
    {
     "name": "stdout",
     "output_type": "stream",
     "text": [
      "\n",
      "No. of Samples:  (70000, 784)\n",
      "No. of Labels:  (70000,)\n",
      "\n",
      "X type:  float64\n",
      "y type:  int64\n"
     ]
    }
   ],
   "source": [
    "# Load the data from the local folder \"data\"\n",
    "mnist = loadmat('data/mnist-original.mat')\n",
    "\n",
    "#Create the data Matrix X and the target vector y\n",
    "X = mnist[\"data\"].T.astype('float64')\n",
    "y = mnist[\"label\"][0].astype('int64')\n",
    "\n",
    "# Load data using Scikit-Learn\n",
    "# mnist = fetch_openml('mnist_784', cache=False)\n",
    "\n",
    "# X = mnist[\"data\"].astype('float64')\n",
    "# y = mnist[\"target\"].astype('int64')\n",
    "\n",
    "\n",
    "print(\"\\nNo. of Samples: \", X.shape)\n",
    "print(\"No. of Labels: \", y.shape)"
   ]
  },
  {
   "cell_type": "markdown",
   "metadata": {},
   "source": [
    "## Split Data Into Training and Test Sets"
   ]
  },
  {
   "cell_type": "code",
   "execution_count": 3,
   "metadata": {},
   "outputs": [
    {
     "name": "stdout",
     "output_type": "stream",
     "text": [
      "X_train:  (56000, 784)\n",
      "X_test:  (14000, 784)\n"
     ]
    }
   ],
   "source": [
    "X_train, X_test, y_train, y_test = train_test_split(X, y, test_size=0.2, random_state=0)\n",
    "\n",
    "print(\"X_train: \", X_train.shape)\n",
    "print(\"X_test: \", X_test.shape)"
   ]
  },
  {
   "cell_type": "markdown",
   "metadata": {},
   "source": [
    "## Data Augmentation\n",
    "\n",
    "We define the following function for augmenting the data by shifting the image along x-y coordinates."
   ]
  },
  {
   "cell_type": "code",
   "execution_count": 4,
   "metadata": {},
   "outputs": [],
   "source": [
    "def shift_image(image, dx, dy):\n",
    "    image = image.reshape((28, 28))\n",
    "    shifted_image = shift(image, [dy, dx], cval=0, mode=\"constant\")\n",
    "    return shifted_image.reshape([-1])"
   ]
  },
  {
   "cell_type": "markdown",
   "metadata": {},
   "source": [
    "## Demo: How to Augment Data by Shifting"
   ]
  },
  {
   "cell_type": "code",
   "execution_count": 5,
   "metadata": {},
   "outputs": [
    {
     "data": {
      "image/png": "[encoded data removed]",
      "text/plain": [
       "<Figure size 1296x432 with 5 Axes>"
      ]
     },
     "metadata": {
      "needs_background": "light"
     },
     "output_type": "display_data"
    }
   ],
   "source": [
    "image = X_train[1000]\n",
    "shifted_image_1 = shift_image(image, 0, 5)\n",
    "shifted_image_2 = shift_image(image, 5, 0)\n",
    "shifted_image_3 = shift_image(image, 0, -5)\n",
    "shifted_image_4 = shift_image(image, -5, 0)\n",
    "\n",
    "\n",
    "plt.figure(figsize=(18,6))\n",
    "plt.subplot(151)\n",
    "plt.title(\"Original\", fontsize=14)\n",
    "plt.imshow(image.reshape(28, 28), interpolation=\"nearest\", cmap=\"Greys\")\n",
    "plt.subplot(152)\n",
    "plt.title(\"Shifted\", fontsize=14)\n",
    "plt.imshow(shifted_image_1.reshape(28, 28), interpolation=\"nearest\", cmap=\"Greys\")\n",
    "plt.subplot(153)\n",
    "plt.title(\"Shifted\", fontsize=14)\n",
    "plt.imshow(shifted_image_2.reshape(28, 28), interpolation=\"nearest\", cmap=\"Greys\")\n",
    "plt.subplot(154)\n",
    "plt.title(\"Shifted\", fontsize=14)\n",
    "plt.imshow(shifted_image_3.reshape(28, 28), interpolation=\"nearest\", cmap=\"Greys\")\n",
    "plt.subplot(155)\n",
    "plt.title(\"Shifted\", fontsize=14)\n",
    "plt.imshow(shifted_image_4.reshape(28, 28), interpolation=\"nearest\", cmap=\"Greys\")\n",
    "\n",
    "plt.show()"
   ]
  },
  {
   "cell_type": "markdown",
   "metadata": {},
   "source": [
    "## Load Augmented Test Data \n",
    "\n",
    "Load the following augmented test data file. It contains images that are altered by some translation of the original images along x-y axes."
   ]
  },
  {
   "cell_type": "code",
   "execution_count": 8,
   "metadata": {},
   "outputs": [],
   "source": [
    "augmented_test_data = loadmat('data/Test_Data_Shifted.mat')\n",
    "\n",
    "X_test_augmented = augmented_test_data[\"X_test\"].astype('float64')\n",
    "y_test_augmented = augmented_test_data[\"y_test\"][0].astype('int64')"
   ]
  },
  {
   "cell_type": "markdown",
   "metadata": {},
   "source": [
    "## Scale the Data"
   ]
  },
  {
   "cell_type": "code",
   "execution_count": 9,
   "metadata": {},
   "outputs": [],
   "source": [
    "# Create a deep copy of the training data for using it later for augmentation\n",
    "X_train_original = copy.deepcopy(X_train)\n",
    "\n",
    "\n",
    "X_train /= 255.0\n",
    "X_test /= 255.0\n",
    "X_test_augmented /= 255.0"
   ]
  },
  {
   "cell_type": "markdown",
   "metadata": {},
   "source": [
    "## Task 1: Train a MLP Model using Non-Augmened Training Data "
   ]
  },
  {
   "cell_type": "code",
   "execution_count": 10,
   "metadata": {},
   "outputs": [
    {
     "name": "stdout",
     "output_type": "stream",
     "text": [
      "Iteration 1, loss = 0.40886675\n",
      "Validation score: 0.932679\n",
      "Iteration 2, loss = 0.19419106\n",
      "Validation score: 0.951429\n",
      "Iteration 3, loss = 0.14385625\n",
      "Validation score: 0.960000\n",
      "Iteration 4, loss = 0.11466252\n",
      "Validation score: 0.964464\n",
      "Iteration 5, loss = 0.09499003\n",
      "Validation score: 0.965714\n",
      "Iteration 6, loss = 0.08248333\n",
      "Validation score: 0.970357\n",
      "Iteration 7, loss = 0.07131126\n",
      "Validation score: 0.970179\n",
      "Iteration 8, loss = 0.06324839\n",
      "Validation score: 0.972500\n",
      "Iteration 9, loss = 0.05644300\n",
      "Validation score: 0.973929\n",
      "Iteration 10, loss = 0.05160096\n",
      "Validation score: 0.973571\n",
      "Iteration 11, loss = 0.04799070\n",
      "Validation score: 0.975179\n",
      "Iteration 12, loss = 0.04425474\n",
      "Validation score: 0.976786\n",
      "Iteration 13, loss = 0.04104076\n",
      "Validation score: 0.975893\n",
      "Iteration 14, loss = 0.03763602\n",
      "Validation score: 0.976786\n",
      "Iteration 15, loss = 0.03603052\n",
      "Validation score: 0.977321\n",
      "Iteration 16, loss = 0.03457569\n",
      "Validation score: 0.976786\n",
      "Iteration 17, loss = 0.03249957\n",
      "Validation score: 0.977143\n",
      "Iteration 18, loss = 0.03181334\n",
      "Validation score: 0.975714\n",
      "Iteration 19, loss = 0.02977752\n",
      "Validation score: 0.975714\n",
      "Iteration 20, loss = 0.02978653\n",
      "Validation score: 0.978571\n",
      "Iteration 21, loss = 0.02934286\n",
      "Validation score: 0.976607\n",
      "Iteration 22, loss = 0.02795728\n",
      "Validation score: 0.977143\n",
      "Iteration 23, loss = 0.02738316\n",
      "Validation score: 0.978571\n",
      "Iteration 24, loss = 0.02670965\n",
      "Validation score: 0.979107\n",
      "Iteration 25, loss = 0.02619358\n",
      "Validation score: 0.978750\n",
      "Iteration 26, loss = 0.02819997\n",
      "Validation score: 0.978393\n",
      "Iteration 27, loss = 0.02621332\n",
      "Validation score: 0.978929\n",
      "Iteration 28, loss = 0.02589854\n",
      "Validation score: 0.978929\n",
      "Iteration 29, loss = 0.02502447\n",
      "Validation score: 0.977500\n",
      "Iteration 30, loss = 0.02709255\n",
      "Validation score: 0.979107\n",
      "Iteration 31, loss = 0.02559986\n",
      "Validation score: 0.977679\n",
      "Iteration 32, loss = 0.02471329\n",
      "Validation score: 0.977679\n",
      "Iteration 33, loss = 0.02488966\n",
      "Validation score: 0.978036\n",
      "Iteration 34, loss = 0.02586494\n",
      "Validation score: 0.978036\n",
      "Iteration 35, loss = 0.02418881\n",
      "Validation score: 0.980000\n",
      "Iteration 36, loss = 0.02528651\n",
      "Validation score: 0.978036\n",
      "Iteration 37, loss = 0.02552080\n",
      "Validation score: 0.977679\n",
      "Iteration 38, loss = 0.02560515\n",
      "Validation score: 0.978214\n",
      "Iteration 39, loss = 0.02353292\n",
      "Validation score: 0.978571\n",
      "Iteration 40, loss = 0.02260024\n",
      "Validation score: 0.980179\n",
      "Iteration 41, loss = 0.02229075\n",
      "Validation score: 0.974286\n",
      "Iteration 42, loss = 0.02787461\n",
      "Validation score: 0.975536\n",
      "Iteration 43, loss = 0.02727729\n",
      "Validation score: 0.980893\n",
      "Iteration 44, loss = 0.02311337\n",
      "Validation score: 0.979464\n",
      "Iteration 45, loss = 0.02140246\n",
      "Validation score: 0.978750\n",
      "Iteration 46, loss = 0.02081665\n",
      "Validation score: 0.980893\n",
      "Iteration 47, loss = 0.02203741\n",
      "Validation score: 0.975714\n",
      "Iteration 48, loss = 0.02600482\n",
      "Validation score: 0.975714\n",
      "Iteration 49, loss = 0.02760327\n",
      "Validation score: 0.978214\n",
      "Iteration 50, loss = 0.02318629\n",
      "Validation score: 0.981071\n",
      "Iteration 51, loss = 0.02097697\n",
      "Validation score: 0.981607\n",
      "Iteration 52, loss = 0.02021470\n",
      "Validation score: 0.980714\n",
      "Iteration 53, loss = 0.02073017\n",
      "Validation score: 0.976964\n",
      "Iteration 54, loss = 0.02944007\n",
      "Validation score: 0.978214\n",
      "Iteration 55, loss = 0.02511713\n",
      "Validation score: 0.980357\n",
      "Iteration 56, loss = 0.02220720\n",
      "Validation score: 0.981964\n",
      "Iteration 57, loss = 0.02025180\n",
      "Validation score: 0.981250\n",
      "Iteration 58, loss = 0.02004214\n",
      "Validation score: 0.981071\n",
      "Iteration 59, loss = 0.02032944\n",
      "Validation score: 0.980357\n",
      "Iteration 60, loss = 0.02488881\n",
      "Validation score: 0.979107\n",
      "Iteration 61, loss = 0.02380974\n",
      "Validation score: 0.979821\n",
      "Iteration 62, loss = 0.02337795\n",
      "Validation score: 0.979107\n",
      "Iteration 63, loss = 0.02235670\n",
      "Validation score: 0.979821\n",
      "Iteration 64, loss = 0.02121105\n",
      "Validation score: 0.981071\n",
      "Iteration 65, loss = 0.02151153\n",
      "Validation score: 0.981607\n",
      "Iteration 66, loss = 0.02084608\n",
      "Validation score: 0.979286\n",
      "Iteration 67, loss = 0.02106053\n",
      "Validation score: 0.979821\n",
      "Validation score did not improve more than tol=0.000010 for 10 consecutive epochs. Stopping.\n",
      "Wall time: 3min 36s\n"
     ]
    },
    {
     "data": {
      "text/plain": [
       "MLPClassifier(activation='relu', alpha=0.01, batch_size='auto', beta_1=0.9,\n",
       "              beta_2=0.999, early_stopping=True, epsilon=1e-08,\n",
       "              hidden_layer_sizes=(200,), learning_rate='constant',\n",
       "              learning_rate_init=0.001, max_iter=200, momentum=0.9,\n",
       "              n_iter_no_change=10, nesterovs_momentum=True, power_t=0.5,\n",
       "              random_state=1, shuffle=True, solver='adam', tol=1e-05,\n",
       "              validation_fraction=0.1, verbose=True, warm_start=False)"
      ]
     },
     "execution_count": 10,
     "metadata": {},
     "output_type": "execute_result"
    }
   ],
   "source": [
    "%%time\n",
    "mlp_clf = MLPClassifier(hidden_layer_sizes=(200,), max_iter=200, alpha=0.01,\n",
    "                    solver='adam', verbose=True, tol=1e-5, random_state=1, \n",
    "                    learning_rate='constant', learning_rate_init=0.001, activation='relu',\n",
    "                    early_stopping=True, n_iter_no_change=10)\n",
    "\n",
    "\n",
    "# Train the model using the non-augmented training data\n",
    "mlp_clf.fit(X_train, y_train)"
   ]
  },
  {
   "cell_type": "markdown",
   "metadata": {},
   "source": [
    "## Task 1: Evaluate the Model using Test Data (Non-Augmented & Augmented) "
   ]
  },
  {
   "cell_type": "code",
   "execution_count": 11,
   "metadata": {},
   "outputs": [
    {
     "name": "stdout",
     "output_type": "stream",
     "text": [
      "\n",
      "Training Accuracy (non-augmented):  0.9981428571428571\n",
      "\n",
      "Non-Augmented Test Accuracy (based on non-augmented model):  0.9808571428571429\n",
      "\n",
      "Augmented Test Accuracy (based on non-augmented model):  0.6722142857142858\n"
     ]
    }
   ],
   "source": [
    "y_train_predicted = mlp_clf.predict(X_train)\n",
    "\n",
    "train_accuracy_mlp = np.mean(y_train_predicted == y_train)\n",
    "\n",
    "print(\"\\nTraining Accuracy (non-augmented): \", train_accuracy_mlp)\n",
    "\n",
    "\n",
    "y_test_predicted = mlp_clf.predict(X_test)\n",
    "\n",
    "test_accuracy_mlp = np.mean(y_test_predicted == y_test)\n",
    "\n",
    "print(\"\\nNon-Augmented Test Accuracy (based on non-augmented model): \", test_accuracy_mlp)\n",
    "\n",
    "\n",
    "y_test_predicted_augmented = mlp_clf.predict(X_test_augmented)\n",
    "\n",
    "augmented_test_accuracy_mlp_nonaugmentedmodel = np.mean(y_test_predicted_augmented == y_test_augmented)\n",
    "\n",
    "print(\"\\nAugmented Test Accuracy (based on non-augmented model): \", augmented_test_accuracy_mlp_nonaugmentedmodel)"
   ]
  },
  {
   "cell_type": "markdown",
   "metadata": {},
   "source": [
    "## Observation: \n",
    "\n",
    "The augmented test data accuracy is be **much smaller** than the accuracy of the original (non-augmented) test data. \n",
    "\n",
    "This indicates the fact that **MLP is not invariant to the translation of images** used for its training."
   ]
  },
  {
   "cell_type": "markdown",
   "metadata": {},
   "source": [
    "## Task 2: Augment the Training Data "
   ]
  },
  {
   "cell_type": "code",
   "execution_count": 13,
   "metadata": {},
   "outputs": [
    {
     "name": "stdout",
     "output_type": "stream",
     "text": [
      "X_train_augmented Shape:  (280000, 784)\n",
      "Wall time: 24.6 s\n"
     ]
    }
   ],
   "source": [
    "%%time\n",
    "\n",
    "X_train_augmented = [image for image in X_train_original]\n",
    "y_train_augmented = [label for label in y_train]\n",
    "\n",
    "\n",
    "# Augmentation by shifting\n",
    "for dx, dy in ((3, 0), (-3, 0), (0, 3), (0, -3)):\n",
    "    for image, label in zip(X_train_original, y_train):\n",
    "        X_train_augmented.append(shift_image(image, dx, dy))\n",
    "        y_train_augmented.append(label)\n",
    "\n",
    "\n",
    "X_train_augmented = np.array(X_train_augmented)\n",
    "y_train_augmented = np.array(y_train_augmented)\n",
    "\n",
    "print(\"X_train_augmented Shape: \", X_train_augmented.shape)"
   ]
  },
  {
   "cell_type": "markdown",
   "metadata": {},
   "source": [
    "## Randomize the Augmented Data"
   ]
  },
  {
   "cell_type": "code",
   "execution_count": 14,
   "metadata": {},
   "outputs": [],
   "source": [
    "shuffle_idx = np.random.permutation(len(X_train_augmented))\n",
    "X_train_augmented = X_train_augmented[shuffle_idx]\n",
    "y_train_augmented = y_train_augmented[shuffle_idx]"
   ]
  },
  {
   "cell_type": "markdown",
   "metadata": {},
   "source": [
    "## Scale the Augmented Training Data"
   ]
  },
  {
   "cell_type": "code",
   "execution_count": 15,
   "metadata": {},
   "outputs": [],
   "source": [
    "X_train_augmented /= 255.0"
   ]
  },
  {
   "cell_type": "markdown",
   "metadata": {},
   "source": [
    "## Task 4: Train a MLP Model using Augmened Training Data"
   ]
  },
  {
   "cell_type": "code",
   "execution_count": 16,
   "metadata": {},
   "outputs": [
    {
     "name": "stdout",
     "output_type": "stream",
     "text": [
      "Iteration 1, loss = 0.35281363\n",
      "Validation score: 0.954714\n",
      "Iteration 2, loss = 0.14998969\n",
      "Validation score: 0.963429\n",
      "Iteration 3, loss = 0.12264136\n",
      "Validation score: 0.966821\n",
      "Iteration 4, loss = 0.10848869\n",
      "Validation score: 0.970107\n",
      "Iteration 5, loss = 0.09977907\n",
      "Validation score: 0.972071\n",
      "Iteration 6, loss = 0.09360825\n",
      "Validation score: 0.970679\n",
      "Iteration 7, loss = 0.08912252\n",
      "Validation score: 0.971821\n",
      "Iteration 8, loss = 0.08522504\n",
      "Validation score: 0.972786\n",
      "Iteration 9, loss = 0.08233197\n",
      "Validation score: 0.973464\n",
      "Iteration 10, loss = 0.08031772\n",
      "Validation score: 0.972107\n",
      "Iteration 11, loss = 0.07854861\n",
      "Validation score: 0.974571\n",
      "Iteration 12, loss = 0.07605697\n",
      "Validation score: 0.975286\n",
      "Iteration 13, loss = 0.07455568\n",
      "Validation score: 0.974464\n",
      "Iteration 14, loss = 0.07282965\n",
      "Validation score: 0.974429\n",
      "Iteration 15, loss = 0.07216377\n",
      "Validation score: 0.974464\n",
      "Iteration 16, loss = 0.07132250\n",
      "Validation score: 0.975107\n",
      "Iteration 17, loss = 0.07021079\n",
      "Validation score: 0.974786\n",
      "Iteration 18, loss = 0.06971796\n",
      "Validation score: 0.973536\n",
      "Iteration 19, loss = 0.06810061\n",
      "Validation score: 0.974786\n",
      "Iteration 20, loss = 0.06778677\n",
      "Validation score: 0.974393\n",
      "Iteration 21, loss = 0.06720603\n",
      "Validation score: 0.975464\n",
      "Iteration 22, loss = 0.06675732\n",
      "Validation score: 0.975357\n",
      "Iteration 23, loss = 0.06647954\n",
      "Validation score: 0.974821\n",
      "Iteration 24, loss = 0.06645434\n",
      "Validation score: 0.974286\n",
      "Iteration 25, loss = 0.06564428\n",
      "Validation score: 0.975893\n",
      "Iteration 26, loss = 0.06533550\n",
      "Validation score: 0.975536\n",
      "Iteration 27, loss = 0.06482038\n",
      "Validation score: 0.976036\n",
      "Iteration 28, loss = 0.06447443\n",
      "Validation score: 0.974429\n",
      "Iteration 29, loss = 0.06434028\n",
      "Validation score: 0.975286\n",
      "Iteration 30, loss = 0.06362572\n",
      "Validation score: 0.973286\n",
      "Iteration 31, loss = 0.06413511\n",
      "Validation score: 0.976429\n",
      "Iteration 32, loss = 0.06324226\n",
      "Validation score: 0.974000\n",
      "Iteration 33, loss = 0.06373410\n",
      "Validation score: 0.975214\n",
      "Iteration 34, loss = 0.06318869\n",
      "Validation score: 0.975393\n",
      "Iteration 35, loss = 0.06257322\n",
      "Validation score: 0.976214\n",
      "Iteration 36, loss = 0.06187828\n",
      "Validation score: 0.973179\n",
      "Iteration 37, loss = 0.06237711\n",
      "Validation score: 0.973964\n",
      "Iteration 38, loss = 0.06212730\n",
      "Validation score: 0.973393\n",
      "Iteration 39, loss = 0.06177423\n",
      "Validation score: 0.976214\n",
      "Iteration 40, loss = 0.06231799\n",
      "Validation score: 0.975321\n",
      "Iteration 41, loss = 0.06173034\n",
      "Validation score: 0.975607\n",
      "Iteration 42, loss = 0.06137080\n",
      "Validation score: 0.976179\n",
      "Validation score did not improve more than tol=0.000010 for 10 consecutive epochs. Stopping.\n",
      "Wall time: 13min 19s\n"
     ]
    },
    {
     "data": {
      "text/plain": [
       "MLPClassifier(activation='relu', alpha=0.01, batch_size='auto', beta_1=0.9,\n",
       "              beta_2=0.999, early_stopping=True, epsilon=1e-08,\n",
       "              hidden_layer_sizes=(200,), learning_rate='constant',\n",
       "              learning_rate_init=0.001, max_iter=200, momentum=0.9,\n",
       "              n_iter_no_change=10, nesterovs_momentum=True, power_t=0.5,\n",
       "              random_state=1, shuffle=True, solver='adam', tol=1e-05,\n",
       "              validation_fraction=0.1, verbose=True, warm_start=False)"
      ]
     },
     "execution_count": 16,
     "metadata": {},
     "output_type": "execute_result"
    }
   ],
   "source": [
    "%%time\n",
    "mlp_clf = MLPClassifier(hidden_layer_sizes=(200,), max_iter=200, alpha=0.01,\n",
    "                    solver='adam', verbose=True, tol=1e-5, random_state=1, \n",
    "                    learning_rate='constant', learning_rate_init=0.001, activation='relu',\n",
    "                    early_stopping=True, n_iter_no_change=10)\n",
    "\n",
    "\n",
    "# Train the model using the augmented training data\n",
    "mlp_clf.fit(X_train_augmented, y_train_augmented)"
   ]
  },
  {
   "cell_type": "markdown",
   "metadata": {},
   "source": [
    "## Task 3: Evaluate the Model using Test Data (Non-Augmented & Augmented) "
   ]
  },
  {
   "cell_type": "code",
   "execution_count": 17,
   "metadata": {},
   "outputs": [
    {
     "name": "stdout",
     "output_type": "stream",
     "text": [
      "\n",
      "Training Accuracy (based on augmented model):  0.9927571428571429\n",
      "\n",
      "Non-Augmented Test Accuracy (based on augmented model):  0.9812142857142857\n",
      "\n",
      "Augmented Test Accuracy (based on augmented model):  0.9763714285714286\n"
     ]
    }
   ],
   "source": [
    "y_train_predicted = mlp_clf.predict(X_train_augmented)\n",
    "\n",
    "train_accuracy_mlp_augmented = np.mean(y_train_predicted == y_train_augmented)\n",
    "\n",
    "print(\"\\nTraining Accuracy (based on augmented model): \", train_accuracy_mlp_augmented )\n",
    "\n",
    "\n",
    "y_test_predicted = mlp_clf.predict(X_test)\n",
    "\n",
    "nonaugmented_test_accuracy_mlp_augmentedmodel = np.mean(y_test_predicted == y_test)\n",
    "\n",
    "print(\"\\nNon-Augmented Test Accuracy (based on augmented model): \", nonaugmented_test_accuracy_mlp_augmentedmodel)\n",
    "\n",
    "\n",
    "y_test_predicted_augmented = mlp_clf.predict(X_test_augmented)\n",
    "\n",
    "augmented_test_accuracy_mlp_augmentedmodel = np.mean(y_test_predicted_augmented == y_test_augmented)\n",
    "\n",
    "print(\"\\nAugmented Test Accuracy (based on augmented model): \", augmented_test_accuracy_mlp_augmentedmodel)"
   ]
  },
  {
   "cell_type": "markdown",
   "metadata": {},
   "source": [
    "## Comparison: Augmented Model vs. Non-Augmented Model"
   ]
  },
  {
   "cell_type": "code",
   "execution_count": 18,
   "metadata": {},
   "outputs": [
    {
     "name": "stdout",
     "output_type": "stream",
     "text": [
      "\n",
      "Augmented Test Accuracy (based on non-augmented model):  0.6722142857142858\n",
      "\n",
      "Augmented Test Accuracy (based on augmented model):  0.9763714285714286\n"
     ]
    }
   ],
   "source": [
    "print(\"\\nAugmented Test Accuracy (based on non-augmented model): \", augmented_test_accuracy_mlp_nonaugmentedmodel)\n",
    "\n",
    "print(\"\\nAugmented Test Accuracy (based on augmented model): \", augmented_test_accuracy_mlp_augmentedmodel)"
   ]
  },
  {
   "cell_type": "markdown",
   "metadata": {},
   "source": [
    "## Observation\n",
    "\n",
    "We observe that after training the MLP model by using the augmented data we could **significantly improve the accuracy** on the augmented test dataset. \n",
    "\n",
    "Now the MLP is **invariant to translation of images**.\n",
    "\n",
    "However, for this improvement we needed to increase the training dataset (from 56,000 to 280,000), which increased the training time (4 min to 13 min).\n",
    "\n",
    "In the next notebook we will see that translation invariant property could be built into the sturcture of the Artificial Neural Network (ANN). We will implement such an ANN by building a **Convolutional Neural Network (CNN)**."
   ]
  }
 ],
 "metadata": {
  "anaconda-cloud": {},
  "kernelspec": {
   "display_name": "Python 3",
   "language": "python",
   "name": "python3"
  },
  "language_info": {
   "codemirror_mode": {
    "name": "ipython",
    "version": 3
   },
   "file_extension": ".py",
   "mimetype": "text/x-python",
   "name": "python",
   "nbconvert_exporter": "python",
   "pygments_lexer": "ipython3",
   "version": "3.7.3"
  }
 },
 "nbformat": 4,
 "nbformat_minor": 1
}
